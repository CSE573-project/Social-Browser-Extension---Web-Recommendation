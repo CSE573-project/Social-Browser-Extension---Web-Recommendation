{
 "cells": [
  {
   "cell_type": "code",
   "execution_count": 1,
   "metadata": {},
   "outputs": [],
   "source": [
    "from prepare_dataset import extract_entities_and_types\n",
    "import requests\n",
    "import pandas as pd\n",
    "import threading"
   ]
  },
  {
   "cell_type": "code",
   "execution_count": 2,
   "metadata": {},
   "outputs": [],
   "source": [
    "INPUT_DATASET_PATH = 'filtered_dataset.csv'\n",
    "SAVE_AS_DATASET_PATH = 'prepared_dataset_'"
   ]
  },
  {
   "cell_type": "code",
   "execution_count": 3,
   "metadata": {},
   "outputs": [],
   "source": [
    "df = pd.read_csv(INPUT_DATASET_PATH)\n"
   ]
  },
  {
   "cell_type": "code",
   "execution_count": 4,
   "metadata": {},
   "outputs": [],
   "source": [
    "n = len(df)\n"
   ]
  },
  {
   "cell_type": "code",
   "execution_count": 5,
   "metadata": {},
   "outputs": [],
   "source": [
    "batch_size = 100000\n"
   ]
  },
  {
   "cell_type": "code",
   "execution_count": 6,
   "metadata": {},
   "outputs": [],
   "source": [
    "df_list = []\n"
   ]
  },
  {
   "cell_type": "code",
   "execution_count": 7,
   "metadata": {},
   "outputs": [],
   "source": [
    "def thread_func(df, start_index, batch_size):\n",
    "    result_df = extract_entities_and_types(df, start_index, batch_size)\n",
    "    df_list.append(result_df)\n",
    "    filename = f'{SAVE_AS_DATASET_PATH}{start_index}.csv'\n",
    "    result_df.to_csv(filename)"
   ]
  },
  {
   "cell_type": "code",
   "execution_count": null,
   "metadata": {},
   "outputs": [
    {
     "name": "stdout",
     "output_type": "stream",
     "text": [
      "starting with index 0 and end index 100000\n",
      "starting with index 100000 and end index 200000\n",
      "starting with index 200000 and end index 300000\n",
      "starting with index 300000 and end index 400000\n",
      "starting with index 400000 and end index 500000\n",
      "starting with index 500000 and end index 600000\n",
      "starting with index 600000 and end index 700000\n",
      "starting with index 700000 and end index 800000\n",
      "starting with index 800000 and end index 900000\n",
      "starting with index 900000 and end index 1000000\n",
      "starting with index 1000000 and end index 1100000\n",
      "starting with index 1100000 and end index 1200000\n",
      "starting with index 1200000 and end index 1300000\n",
      "starting with index 1300000 and end index 1400000\n",
      "starting with index 1400000 and end index 1500000\n",
      "starting with index 1500000 and end index 1600000\n",
      "starting with index 1600000 and end index 1700000\n",
      "starting with index 1700000 and end index 1800000\n",
      "starting with index 1800000 and end index 1900000\n",
      "starting with index 1900000 and end index 2000000\n",
      "starting with index 2000000 and end index 2100000\n",
      "starting with index 2100000 and end index 2200000\n",
      "starting with index 2200000 and end index 2300000\n",
      "starting with index 2300000 and end index 2320009\n"
     ]
    }
   ],
   "source": [
    "thread_list = []\n",
    "for i in range(0, n, batch_size):\n",
    "    t = threading.Thread(target=thread_func, args=(df, i, batch_size))\n",
    "    thread_list.append(t)\n",
    "for thread in thread_list:\n",
    "    thread.start()\n",
    "for thread in thread_list:\n",
    "    thread.join()\n",
    "    "
   ]
  },
  {
   "cell_type": "code",
   "execution_count": null,
   "metadata": {},
   "outputs": [],
   "source": []
  }
 ],
 "metadata": {
  "kernelspec": {
   "display_name": "Python 3",
   "language": "python",
   "name": "python3"
  },
  "language_info": {
   "codemirror_mode": {
    "name": "ipython",
    "version": 3
   },
   "file_extension": ".py",
   "mimetype": "text/x-python",
   "name": "python",
   "nbconvert_exporter": "python",
   "pygments_lexer": "ipython3",
   "version": "3.7.6"
  }
 },
 "nbformat": 4,
 "nbformat_minor": 4
}
