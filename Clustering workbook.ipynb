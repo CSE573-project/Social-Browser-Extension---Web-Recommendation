{
 "cells": [
  {
   "cell_type": "code",
   "execution_count": 1,
   "id": "1c60bcf2",
   "metadata": {},
   "outputs": [],
   "source": [
    "import clustering\n",
    "import pandas as pd\n",
    "\n",
    "import spacy\n",
    "from sklearn.cluster import KMeans\n",
    "import pickle \n",
    "import knowledge_graph as mykg\n",
    "\n",
    "nlp = spacy.load(\"en_core_web_lg\")"
   ]
  },
  {
   "cell_type": "code",
   "execution_count": 2,
   "id": "2ab6e4e8",
   "metadata": {},
   "outputs": [],
   "source": [
    "import nlp_tasks as mynlp\n",
    "from collections import Counter"
   ]
  },
  {
   "cell_type": "code",
   "execution_count": 3,
   "id": "f615226f",
   "metadata": {},
   "outputs": [],
   "source": [
    "import os\n",
    "os.environ[\"SPACY_WARNING_IGNORE\"] = \"W008\""
   ]
  },
  {
   "cell_type": "code",
   "execution_count": 4,
   "id": "85850af1",
   "metadata": {},
   "outputs": [],
   "source": [
    "#NUM_CLUSTERS = 900"
   ]
  },
  {
   "cell_type": "code",
   "execution_count": 5,
   "id": "bf2ea66c",
   "metadata": {},
   "outputs": [],
   "source": [
    "df = pd.read_csv(\"final_dataset.csv\")"
   ]
  },
  {
   "cell_type": "code",
   "execution_count": 6,
   "id": "e84662a7",
   "metadata": {},
   "outputs": [
    {
     "data": {
      "text/html": [
       "<div>\n",
       "<style scoped>\n",
       "    .dataframe tbody tr th:only-of-type {\n",
       "        vertical-align: middle;\n",
       "    }\n",
       "\n",
       "    .dataframe tbody tr th {\n",
       "        vertical-align: top;\n",
       "    }\n",
       "\n",
       "    .dataframe thead th {\n",
       "        text-align: right;\n",
       "    }\n",
       "</style>\n",
       "<table border=\"1\" class=\"dataframe\">\n",
       "  <thead>\n",
       "    <tr style=\"text-align: right;\">\n",
       "      <th></th>\n",
       "      <th>WikiID</th>\n",
       "      <th>Entity</th>\n",
       "      <th>Type</th>\n",
       "    </tr>\n",
       "  </thead>\n",
       "  <tbody>\n",
       "    <tr>\n",
       "      <th>0</th>\n",
       "      <td>Q1000480</td>\n",
       "      <td>Väter der Einheit</td>\n",
       "      <td>Monument</td>\n",
       "    </tr>\n",
       "    <tr>\n",
       "      <th>1</th>\n",
       "      <td>Q1002392</td>\n",
       "      <td>Bugenhagenbrunnen</td>\n",
       "      <td>Monument</td>\n",
       "    </tr>\n",
       "    <tr>\n",
       "      <th>2</th>\n",
       "      <td>Q1005877</td>\n",
       "      <td>Bundesdenkmal des Bundes Deutscher Radfahrer</td>\n",
       "      <td>Monument</td>\n",
       "    </tr>\n",
       "    <tr>\n",
       "      <th>3</th>\n",
       "      <td>Q1009561</td>\n",
       "      <td>Bunker Hill Monument</td>\n",
       "      <td>Monument</td>\n",
       "    </tr>\n",
       "    <tr>\n",
       "      <th>4</th>\n",
       "      <td>Q1013495</td>\n",
       "      <td>Peñafiel Castle</td>\n",
       "      <td>Monument</td>\n",
       "    </tr>\n",
       "    <tr>\n",
       "      <th>...</th>\n",
       "      <td>...</td>\n",
       "      <td>...</td>\n",
       "      <td>...</td>\n",
       "    </tr>\n",
       "    <tr>\n",
       "      <th>29645</th>\n",
       "      <td>Q1907472</td>\n",
       "      <td>Massarelos</td>\n",
       "      <td>Locality</td>\n",
       "    </tr>\n",
       "    <tr>\n",
       "      <th>29646</th>\n",
       "      <td>Q1908038</td>\n",
       "      <td>Matakohe</td>\n",
       "      <td>Locality</td>\n",
       "    </tr>\n",
       "    <tr>\n",
       "      <th>29647</th>\n",
       "      <td>Q1908045</td>\n",
       "      <td>Matacães</td>\n",
       "      <td>Locality</td>\n",
       "    </tr>\n",
       "    <tr>\n",
       "      <th>29648</th>\n",
       "      <td>Q1908531</td>\n",
       "      <td>Piña de Esgueva</td>\n",
       "      <td>Locality</td>\n",
       "    </tr>\n",
       "    <tr>\n",
       "      <th>29649</th>\n",
       "      <td>Q1910459</td>\n",
       "      <td>Henley</td>\n",
       "      <td>Locality</td>\n",
       "    </tr>\n",
       "  </tbody>\n",
       "</table>\n",
       "<p>29650 rows × 3 columns</p>\n",
       "</div>"
      ],
      "text/plain": [
       "         WikiID                                        Entity      Type\n",
       "0      Q1000480                             Väter der Einheit  Monument\n",
       "1      Q1002392                             Bugenhagenbrunnen  Monument\n",
       "2      Q1005877  Bundesdenkmal des Bundes Deutscher Radfahrer  Monument\n",
       "3      Q1009561                          Bunker Hill Monument  Monument\n",
       "4      Q1013495                               Peñafiel Castle  Monument\n",
       "...         ...                                           ...       ...\n",
       "29645  Q1907472                                    Massarelos  Locality\n",
       "29646  Q1908038                                      Matakohe  Locality\n",
       "29647  Q1908045                                      Matacães  Locality\n",
       "29648  Q1908531                               Piña de Esgueva  Locality\n",
       "29649  Q1910459                                        Henley  Locality\n",
       "\n",
       "[29650 rows x 3 columns]"
      ]
     },
     "execution_count": 6,
     "metadata": {},
     "output_type": "execute_result"
    }
   ],
   "source": [
    "df"
   ]
  },
  {
   "cell_type": "code",
   "execution_count": 7,
   "id": "b291ea59",
   "metadata": {},
   "outputs": [
    {
     "data": {
      "text/plain": [
       "29650"
      ]
     },
     "execution_count": 7,
     "metadata": {},
     "output_type": "execute_result"
    }
   ],
   "source": [
    "len(df)"
   ]
  },
  {
   "cell_type": "code",
   "execution_count": 8,
   "id": "c28c2b0c",
   "metadata": {},
   "outputs": [
    {
     "name": "stdout",
     "output_type": "stream",
     "text": [
      "['Monument', 'City', 'Profession', 'Musical', 'Sports Team', 'Organisation', 'Political Party', 'Person', 'Television Show', 'Sports League', 'Building', 'Fictional Character', 'Skyscraper', 'Music Genre', 'Novel', 'Anime', 'Board Game', 'Magazine', 'Cinema', 'Musical Work', 'Company', 'Food', 'Book', 'Rocket', 'Scientist', 'Animal', 'Plant', 'President', 'Singer', 'Film', 'Locality'] 31\n"
     ]
    }
   ],
   "source": [
    "categories = list(df['Type'].unique())\n",
    "print(categories, len(categories))"
   ]
  },
  {
   "cell_type": "code",
   "execution_count": null,
   "id": "e0a7446a",
   "metadata": {},
   "outputs": [],
   "source": []
  },
  {
   "cell_type": "code",
   "execution_count": 9,
   "id": "27a9bb8e",
   "metadata": {},
   "outputs": [],
   "source": [
    "#entities = list(df['Entity'] + \" \" + df['Type'])"
   ]
  },
  {
   "cell_type": "code",
   "execution_count": 10,
   "id": "cd3654af",
   "metadata": {},
   "outputs": [],
   "source": [
    "#docs = [nlp(entity) for entity in entities]"
   ]
  },
  {
   "cell_type": "code",
   "execution_count": 11,
   "id": "46a113d2",
   "metadata": {},
   "outputs": [],
   "source": [
    "#vectors = [doc.vector for doc in docs]"
   ]
  },
  {
   "cell_type": "code",
   "execution_count": 12,
   "id": "da4a6588",
   "metadata": {},
   "outputs": [],
   "source": [
    "#cluster_model = KMeans(n_clusters=NUM_CLUSTERS, random_state=0).fit(vectors)"
   ]
  },
  {
   "cell_type": "code",
   "execution_count": 13,
   "id": "14f90ab9",
   "metadata": {},
   "outputs": [],
   "source": [
    "#CLUSTER_MODEL_PATH = 'kmeans_model_wikidata.pkl'\n",
    "#pickle.dump(cluster_model, open(CLUSTER_MODEL_PATH, \"wb\"))"
   ]
  },
  {
   "cell_type": "code",
   "execution_count": 14,
   "id": "ab1ee49d",
   "metadata": {},
   "outputs": [],
   "source": [
    "#cluster_model = clustering.get_cluster_model()"
   ]
  },
  {
   "cell_type": "code",
   "execution_count": 15,
   "id": "8437f809",
   "metadata": {},
   "outputs": [],
   "source": [
    "#len(df), len(cluster_model.labels_)"
   ]
  },
  {
   "cell_type": "code",
   "execution_count": 16,
   "id": "ebfda85a",
   "metadata": {},
   "outputs": [],
   "source": [
    "#df['Labels'] = cluster_model.labels_"
   ]
  },
  {
   "cell_type": "code",
   "execution_count": 17,
   "id": "71cc1512",
   "metadata": {},
   "outputs": [],
   "source": [
    "#doc = nlp(\"Taj Mahal\")\n",
    "#cluster_model.predict([doc.vector])"
   ]
  },
  {
   "cell_type": "code",
   "execution_count": 18,
   "id": "c4711de0",
   "metadata": {},
   "outputs": [],
   "source": [
    "#df[df['Labels'] == 24]"
   ]
  },
  {
   "cell_type": "code",
   "execution_count": null,
   "id": "7d39ea42",
   "metadata": {},
   "outputs": [],
   "source": []
  },
  {
   "cell_type": "code",
   "execution_count": 19,
   "id": "270d6079",
   "metadata": {},
   "outputs": [],
   "source": [
    "texts = ['A cryptocurrency is a digital or virtual currency that uses cryptography and is difficult to counterfeit.', 'Lionel Andrés Messi (Spanish pronunciation: [ljoˈnel anˈdɾes ˈmesi] (listen); born 24 June 1987), also known as Leo Messi, is an Argentine professional footballer who plays as a forward for  Ligue 1 club Paris Saint-Germain and captains the Argentina', 'Elon Reeve Musk  (; born June 28, 1971) is an entrepreneur, investor, and business magnate. He is the founder, CEO, and Chief Engineer at SpaceX; He is also the owner of Twitter, early-stage investor, CEO, and Product Architect of Tesla, Inc.; founde', 'Barack Hussein Obama II ( (listen) bə-RAHK hoo-SAYN oh-BAH-mə; born August 4, 1961) is an American politician who served as the 44th president of the United States from 2009 to 2017. A member of the Democratic Party, Obama was the first African-Ameri', 'Ukraine (Ukrainian: Україна, romanized: Ukraïna, pronounced [ʊkrɐˈjinɐ] (listen)) is a country in Eastern Europe. It is the second largest country in Europe after Russia, which borders it to the east and north-east. Ukraine also shares borders with B', \"The Pacific Ocean is the largest and deepest of Earth's five oceanic divisions. It extends from the Arctic Ocean in the north to the Southern Ocean (or, depending on definition, to Antarctica) in the south and is bounded by the continents of Asia and\"]"
   ]
  },
  {
   "cell_type": "code",
   "execution_count": 20,
   "id": "0e777fca",
   "metadata": {},
   "outputs": [],
   "source": [
    "user_knowledge_graph_df = mykg.construct_knowledge_graph(texts)"
   ]
  },
  {
   "cell_type": "code",
   "execution_count": 21,
   "id": "d42172ea",
   "metadata": {},
   "outputs": [],
   "source": [
    "user_knowledge_graph_df['Combined Entities'] = user_knowledge_graph_df['Subjects and Objects'] + user_knowledge_graph_df['Entity List']"
   ]
  },
  {
   "cell_type": "code",
   "execution_count": 22,
   "id": "c7cd1703",
   "metadata": {},
   "outputs": [],
   "source": [
    "entities = list(user_knowledge_graph_df['Combined Entities'] )\n",
    "entities_joined = []\n",
    "for ent_list in entities:\n",
    "    if len(ent_list) > 0:\n",
    "        txt = mynlp.remove_stop_words(' '.join(ent_list))\n",
    "        if len(txt) > 0:\n",
    "            entities_joined.append(txt)"
   ]
  },
  {
   "cell_type": "code",
   "execution_count": 23,
   "id": "e6a4ee8c",
   "metadata": {},
   "outputs": [
    {
     "data": {
      "text/plain": [
       "['cryptocurrency cryptography',\n",
       " 'Lionel Andrés Messi Spanish',\n",
       " 'ljoˈnel anˈdɾes',\n",
       " 'Leo Messi forward Paris Saint Germain Argentina 24 June 1987 Leo Messi Argentine Paris Saint - Germain Argentina',\n",
       " 'Elon Reeve Musk Elon Reeve Musk June 28 , 1971',\n",
       " 'Elon Reeve Elon Reeve Chief SpaceX Twitter Product Tesla Elon Reeve Engineer SpaceX Elon Reeve Twitter Product Architect Tesla , Inc.',\n",
       " 'Barack Hussein Obama II',\n",
       " 'born president United States 2009 2017 August 4 , 1961 American 44th United States 2009 2017',\n",
       " 'member Obama Democratic Party Democratic Party Obama African - Ameri',\n",
       " 'Ukraine',\n",
       " 'Україна ʊkrɐˈjinɐ Україна',\n",
       " 'Eastern Europe Eastern Europe',\n",
       " 'Europe Russia east second Europe Russia',\n",
       " 'Ukraine borders B Ukraine',\n",
       " 'Pacific Ocean divisions Pacific Ocean Earth',\n",
       " 'Pacific Ocean Arctic Ocean north Southern Ocean definition Antarctica south continents Asia Pacific Ocean Arctic Ocean Southern Ocean Antarctica Asia']"
      ]
     },
     "execution_count": 23,
     "metadata": {},
     "output_type": "execute_result"
    }
   ],
   "source": [
    "entities_joined"
   ]
  },
  {
   "cell_type": "code",
   "execution_count": 24,
   "id": "2ffc9e4a",
   "metadata": {},
   "outputs": [],
   "source": [
    "texts = entities_joined\n",
    "text_docs = [nlp(text) for text in texts]\n",
    "category_docs = [nlp(cat) for cat in categories]"
   ]
  },
  {
   "cell_type": "code",
   "execution_count": 25,
   "id": "d9df4b47",
   "metadata": {},
   "outputs": [
    {
     "name": "stderr",
     "output_type": "stream",
     "text": [
      "C:\\Users\\divya\\Anaconda3\\lib\\runpy.py:193: UserWarning: [W008] Evaluating Doc.similarity based on empty vectors.\n",
      "  \"__main__\", mod_spec)\n",
      "C:\\Users\\divya\\Anaconda3\\lib\\runpy.py:193: UserWarning: [W008] Evaluating Doc.similarity based on empty vectors.\n",
      "  \"__main__\", mod_spec)\n",
      "C:\\Users\\divya\\Anaconda3\\lib\\runpy.py:193: UserWarning: [W008] Evaluating Doc.similarity based on empty vectors.\n",
      "  \"__main__\", mod_spec)\n",
      "C:\\Users\\divya\\Anaconda3\\lib\\runpy.py:193: UserWarning: [W008] Evaluating Doc.similarity based on empty vectors.\n",
      "  \"__main__\", mod_spec)\n",
      "C:\\Users\\divya\\Anaconda3\\lib\\runpy.py:193: UserWarning: [W008] Evaluating Doc.similarity based on empty vectors.\n",
      "  \"__main__\", mod_spec)\n",
      "C:\\Users\\divya\\Anaconda3\\lib\\runpy.py:193: UserWarning: [W008] Evaluating Doc.similarity based on empty vectors.\n",
      "  \"__main__\", mod_spec)\n",
      "C:\\Users\\divya\\Anaconda3\\lib\\runpy.py:193: UserWarning: [W008] Evaluating Doc.similarity based on empty vectors.\n",
      "  \"__main__\", mod_spec)\n",
      "C:\\Users\\divya\\Anaconda3\\lib\\runpy.py:193: UserWarning: [W008] Evaluating Doc.similarity based on empty vectors.\n",
      "  \"__main__\", mod_spec)\n",
      "C:\\Users\\divya\\Anaconda3\\lib\\runpy.py:193: UserWarning: [W008] Evaluating Doc.similarity based on empty vectors.\n",
      "  \"__main__\", mod_spec)\n",
      "C:\\Users\\divya\\Anaconda3\\lib\\runpy.py:193: UserWarning: [W008] Evaluating Doc.similarity based on empty vectors.\n",
      "  \"__main__\", mod_spec)\n",
      "C:\\Users\\divya\\Anaconda3\\lib\\runpy.py:193: UserWarning: [W008] Evaluating Doc.similarity based on empty vectors.\n",
      "  \"__main__\", mod_spec)\n",
      "C:\\Users\\divya\\Anaconda3\\lib\\runpy.py:193: UserWarning: [W008] Evaluating Doc.similarity based on empty vectors.\n",
      "  \"__main__\", mod_spec)\n",
      "C:\\Users\\divya\\Anaconda3\\lib\\runpy.py:193: UserWarning: [W008] Evaluating Doc.similarity based on empty vectors.\n",
      "  \"__main__\", mod_spec)\n",
      "C:\\Users\\divya\\Anaconda3\\lib\\runpy.py:193: UserWarning: [W008] Evaluating Doc.similarity based on empty vectors.\n",
      "  \"__main__\", mod_spec)\n",
      "C:\\Users\\divya\\Anaconda3\\lib\\runpy.py:193: UserWarning: [W008] Evaluating Doc.similarity based on empty vectors.\n",
      "  \"__main__\", mod_spec)\n",
      "C:\\Users\\divya\\Anaconda3\\lib\\runpy.py:193: UserWarning: [W008] Evaluating Doc.similarity based on empty vectors.\n",
      "  \"__main__\", mod_spec)\n",
      "C:\\Users\\divya\\Anaconda3\\lib\\runpy.py:193: UserWarning: [W008] Evaluating Doc.similarity based on empty vectors.\n",
      "  \"__main__\", mod_spec)\n",
      "C:\\Users\\divya\\Anaconda3\\lib\\runpy.py:193: UserWarning: [W008] Evaluating Doc.similarity based on empty vectors.\n",
      "  \"__main__\", mod_spec)\n",
      "C:\\Users\\divya\\Anaconda3\\lib\\runpy.py:193: UserWarning: [W008] Evaluating Doc.similarity based on empty vectors.\n",
      "  \"__main__\", mod_spec)\n",
      "C:\\Users\\divya\\Anaconda3\\lib\\runpy.py:193: UserWarning: [W008] Evaluating Doc.similarity based on empty vectors.\n",
      "  \"__main__\", mod_spec)\n",
      "C:\\Users\\divya\\Anaconda3\\lib\\runpy.py:193: UserWarning: [W008] Evaluating Doc.similarity based on empty vectors.\n",
      "  \"__main__\", mod_spec)\n",
      "C:\\Users\\divya\\Anaconda3\\lib\\runpy.py:193: UserWarning: [W008] Evaluating Doc.similarity based on empty vectors.\n",
      "  \"__main__\", mod_spec)\n",
      "C:\\Users\\divya\\Anaconda3\\lib\\runpy.py:193: UserWarning: [W008] Evaluating Doc.similarity based on empty vectors.\n",
      "  \"__main__\", mod_spec)\n",
      "C:\\Users\\divya\\Anaconda3\\lib\\runpy.py:193: UserWarning: [W008] Evaluating Doc.similarity based on empty vectors.\n",
      "  \"__main__\", mod_spec)\n",
      "C:\\Users\\divya\\Anaconda3\\lib\\runpy.py:193: UserWarning: [W008] Evaluating Doc.similarity based on empty vectors.\n",
      "  \"__main__\", mod_spec)\n",
      "C:\\Users\\divya\\Anaconda3\\lib\\runpy.py:193: UserWarning: [W008] Evaluating Doc.similarity based on empty vectors.\n",
      "  \"__main__\", mod_spec)\n",
      "C:\\Users\\divya\\Anaconda3\\lib\\runpy.py:193: UserWarning: [W008] Evaluating Doc.similarity based on empty vectors.\n",
      "  \"__main__\", mod_spec)\n",
      "C:\\Users\\divya\\Anaconda3\\lib\\runpy.py:193: UserWarning: [W008] Evaluating Doc.similarity based on empty vectors.\n",
      "  \"__main__\", mod_spec)\n",
      "C:\\Users\\divya\\Anaconda3\\lib\\runpy.py:193: UserWarning: [W008] Evaluating Doc.similarity based on empty vectors.\n",
      "  \"__main__\", mod_spec)\n",
      "C:\\Users\\divya\\Anaconda3\\lib\\runpy.py:193: UserWarning: [W008] Evaluating Doc.similarity based on empty vectors.\n",
      "  \"__main__\", mod_spec)\n",
      "C:\\Users\\divya\\Anaconda3\\lib\\runpy.py:193: UserWarning: [W008] Evaluating Doc.similarity based on empty vectors.\n",
      "  \"__main__\", mod_spec)\n",
      "C:\\Users\\divya\\Anaconda3\\lib\\runpy.py:193: UserWarning: [W008] Evaluating Doc.similarity based on empty vectors.\n",
      "  \"__main__\", mod_spec)\n",
      "C:\\Users\\divya\\Anaconda3\\lib\\runpy.py:193: UserWarning: [W008] Evaluating Doc.similarity based on empty vectors.\n",
      "  \"__main__\", mod_spec)\n",
      "C:\\Users\\divya\\Anaconda3\\lib\\runpy.py:193: UserWarning: [W008] Evaluating Doc.similarity based on empty vectors.\n",
      "  \"__main__\", mod_spec)\n",
      "C:\\Users\\divya\\Anaconda3\\lib\\runpy.py:193: UserWarning: [W008] Evaluating Doc.similarity based on empty vectors.\n",
      "  \"__main__\", mod_spec)\n",
      "C:\\Users\\divya\\Anaconda3\\lib\\runpy.py:193: UserWarning: [W008] Evaluating Doc.similarity based on empty vectors.\n",
      "  \"__main__\", mod_spec)\n",
      "C:\\Users\\divya\\Anaconda3\\lib\\runpy.py:193: UserWarning: [W008] Evaluating Doc.similarity based on empty vectors.\n",
      "  \"__main__\", mod_spec)\n",
      "C:\\Users\\divya\\Anaconda3\\lib\\runpy.py:193: UserWarning: [W008] Evaluating Doc.similarity based on empty vectors.\n",
      "  \"__main__\", mod_spec)\n",
      "C:\\Users\\divya\\Anaconda3\\lib\\runpy.py:193: UserWarning: [W008] Evaluating Doc.similarity based on empty vectors.\n",
      "  \"__main__\", mod_spec)\n",
      "C:\\Users\\divya\\Anaconda3\\lib\\runpy.py:193: UserWarning: [W008] Evaluating Doc.similarity based on empty vectors.\n",
      "  \"__main__\", mod_spec)\n",
      "C:\\Users\\divya\\Anaconda3\\lib\\runpy.py:193: UserWarning: [W008] Evaluating Doc.similarity based on empty vectors.\n",
      "  \"__main__\", mod_spec)\n",
      "C:\\Users\\divya\\Anaconda3\\lib\\runpy.py:193: UserWarning: [W008] Evaluating Doc.similarity based on empty vectors.\n",
      "  \"__main__\", mod_spec)\n",
      "C:\\Users\\divya\\Anaconda3\\lib\\runpy.py:193: UserWarning: [W008] Evaluating Doc.similarity based on empty vectors.\n",
      "  \"__main__\", mod_spec)\n",
      "C:\\Users\\divya\\Anaconda3\\lib\\runpy.py:193: UserWarning: [W008] Evaluating Doc.similarity based on empty vectors.\n",
      "  \"__main__\", mod_spec)\n",
      "C:\\Users\\divya\\Anaconda3\\lib\\runpy.py:193: UserWarning: [W008] Evaluating Doc.similarity based on empty vectors.\n",
      "  \"__main__\", mod_spec)\n",
      "C:\\Users\\divya\\Anaconda3\\lib\\runpy.py:193: UserWarning: [W008] Evaluating Doc.similarity based on empty vectors.\n",
      "  \"__main__\", mod_spec)\n",
      "C:\\Users\\divya\\Anaconda3\\lib\\runpy.py:193: UserWarning: [W008] Evaluating Doc.similarity based on empty vectors.\n",
      "  \"__main__\", mod_spec)\n",
      "C:\\Users\\divya\\Anaconda3\\lib\\runpy.py:193: UserWarning: [W008] Evaluating Doc.similarity based on empty vectors.\n",
      "  \"__main__\", mod_spec)\n",
      "C:\\Users\\divya\\Anaconda3\\lib\\runpy.py:193: UserWarning: [W008] Evaluating Doc.similarity based on empty vectors.\n",
      "  \"__main__\", mod_spec)\n",
      "C:\\Users\\divya\\Anaconda3\\lib\\runpy.py:193: UserWarning: [W008] Evaluating Doc.similarity based on empty vectors.\n",
      "  \"__main__\", mod_spec)\n",
      "C:\\Users\\divya\\Anaconda3\\lib\\runpy.py:193: UserWarning: [W008] Evaluating Doc.similarity based on empty vectors.\n",
      "  \"__main__\", mod_spec)\n",
      "C:\\Users\\divya\\Anaconda3\\lib\\runpy.py:193: UserWarning: [W008] Evaluating Doc.similarity based on empty vectors.\n",
      "  \"__main__\", mod_spec)\n",
      "C:\\Users\\divya\\Anaconda3\\lib\\runpy.py:193: UserWarning: [W008] Evaluating Doc.similarity based on empty vectors.\n",
      "  \"__main__\", mod_spec)\n",
      "C:\\Users\\divya\\Anaconda3\\lib\\runpy.py:193: UserWarning: [W008] Evaluating Doc.similarity based on empty vectors.\n",
      "  \"__main__\", mod_spec)\n",
      "C:\\Users\\divya\\Anaconda3\\lib\\runpy.py:193: UserWarning: [W008] Evaluating Doc.similarity based on empty vectors.\n",
      "  \"__main__\", mod_spec)\n",
      "C:\\Users\\divya\\Anaconda3\\lib\\runpy.py:193: UserWarning: [W008] Evaluating Doc.similarity based on empty vectors.\n",
      "  \"__main__\", mod_spec)\n",
      "C:\\Users\\divya\\Anaconda3\\lib\\runpy.py:193: UserWarning: [W008] Evaluating Doc.similarity based on empty vectors.\n",
      "  \"__main__\", mod_spec)\n",
      "C:\\Users\\divya\\Anaconda3\\lib\\runpy.py:193: UserWarning: [W008] Evaluating Doc.similarity based on empty vectors.\n",
      "  \"__main__\", mod_spec)\n",
      "C:\\Users\\divya\\Anaconda3\\lib\\runpy.py:193: UserWarning: [W008] Evaluating Doc.similarity based on empty vectors.\n",
      "  \"__main__\", mod_spec)\n",
      "C:\\Users\\divya\\Anaconda3\\lib\\runpy.py:193: UserWarning: [W008] Evaluating Doc.similarity based on empty vectors.\n",
      "  \"__main__\", mod_spec)\n",
      "C:\\Users\\divya\\Anaconda3\\lib\\runpy.py:193: UserWarning: [W008] Evaluating Doc.similarity based on empty vectors.\n",
      "  \"__main__\", mod_spec)\n",
      "C:\\Users\\divya\\Anaconda3\\lib\\runpy.py:193: UserWarning: [W008] Evaluating Doc.similarity based on empty vectors.\n",
      "  \"__main__\", mod_spec)\n"
     ]
    }
   ],
   "source": [
    "max_score_details = []\n",
    "for doc in text_docs:\n",
    "    sim_scores = []\n",
    "    for i in range(len(category_docs)):\n",
    "        cat_doc = category_docs[i]\n",
    "        sim_scores.append((doc.similarity(cat_doc), doc.text, categories[i]))\n",
    "    max_score_details.append(sorted(sim_scores, key = lambda x: x[0], reverse = True)[0])"
   ]
  },
  {
   "cell_type": "code",
   "execution_count": 26,
   "id": "5763b9fc",
   "metadata": {},
   "outputs": [],
   "source": [
    "max_score_categories = [score[2] for score in max_score_details if score[0] > 0]"
   ]
  },
  {
   "cell_type": "code",
   "execution_count": 27,
   "id": "182da7a5",
   "metadata": {},
   "outputs": [],
   "source": [
    "counts = Counter(max_score_categories)"
   ]
  },
  {
   "cell_type": "code",
   "execution_count": 28,
   "id": "6425fd55",
   "metadata": {},
   "outputs": [],
   "source": [
    "count_tuples = list(counts.items())"
   ]
  },
  {
   "cell_type": "code",
   "execution_count": 29,
   "id": "bc7d6181",
   "metadata": {},
   "outputs": [],
   "source": [
    "sorted_count_tuples = sorted(count_tuples, key = lambda x: x[1], reverse = True)"
   ]
  },
  {
   "cell_type": "code",
   "execution_count": 89,
   "id": "3380b053",
   "metadata": {},
   "outputs": [],
   "source": [
    "TOP_CATEG_COUNT = 3"
   ]
  },
  {
   "cell_type": "code",
   "execution_count": 90,
   "id": "886d7f4e",
   "metadata": {},
   "outputs": [],
   "source": [
    "categories_to_recommend = [tup[0] for tup in sorted_count_tuples[:TOP_CATEG_COUNT]]"
   ]
  },
  {
   "cell_type": "code",
   "execution_count": 91,
   "id": "dfd87e95",
   "metadata": {},
   "outputs": [
    {
     "data": {
      "text/plain": [
       "['City', 'Scientist', 'President']"
      ]
     },
     "execution_count": 91,
     "metadata": {},
     "output_type": "execute_result"
    }
   ],
   "source": [
    "categories_to_recommend"
   ]
  },
  {
   "cell_type": "code",
   "execution_count": 92,
   "id": "67064014",
   "metadata": {},
   "outputs": [],
   "source": [
    "recom_req_dict = {}\n",
    "for categ in categories_to_recommend:\n",
    "    recom_req_dict[categ] = []\n",
    "for detail in max_score_details:\n",
    "    categ = detail[2]\n",
    "    if categ in categories_to_recommend:\n",
    "        recom_req_dict[categ].append(detail)"
   ]
  },
  {
   "cell_type": "code",
   "execution_count": 93,
   "id": "689836b5",
   "metadata": {},
   "outputs": [],
   "source": [
    "#combining the list as one string\n",
    "#for key in recom_req_dict:\n",
    "    #recom_req_dict[key] = ' '.join(recom_req_dict[key])"
   ]
  },
  {
   "cell_type": "code",
   "execution_count": 94,
   "id": "aeb2d666",
   "metadata": {},
   "outputs": [],
   "source": [
    "#keeping only the max score detail\n",
    "for key in recom_req_dict:\n",
    "    detail = recom_req_dict[key]\n",
    "    recom_req_dict[key] = max(detail, key = lambda x: x[0])[1]"
   ]
  },
  {
   "cell_type": "code",
   "execution_count": 95,
   "id": "f40de150",
   "metadata": {},
   "outputs": [
    {
     "data": {
      "text/plain": [
       "{'City': 'Eastern Europe Eastern Europe',\n",
       " 'Scientist': 'Elon Reeve Elon Reeve Chief SpaceX Twitter Product Tesla Elon Reeve Engineer SpaceX Elon Reeve Twitter Product Architect Tesla , Inc.',\n",
       " 'President': 'born president United States 2009 2017 August 4 , 1961 American 44th United States 2009 2017'}"
      ]
     },
     "execution_count": 95,
     "metadata": {},
     "output_type": "execute_result"
    }
   ],
   "source": [
    "recom_req_dict"
   ]
  },
  {
   "cell_type": "markdown",
   "id": "4a366e87",
   "metadata": {},
   "source": [
    "Clustering"
   ]
  },
  {
   "cell_type": "code",
   "execution_count": 105,
   "id": "d79968e5",
   "metadata": {},
   "outputs": [],
   "source": [
    "categ = 'Scientist'"
   ]
  },
  {
   "cell_type": "code",
   "execution_count": 106,
   "id": "fa82857d",
   "metadata": {},
   "outputs": [],
   "source": [
    "df_categ = df[df['Type'] == categ]"
   ]
  },
  {
   "cell_type": "code",
   "execution_count": 107,
   "id": "3df89251",
   "metadata": {},
   "outputs": [],
   "source": [
    "texts = list(df_categ['Entity'])"
   ]
  },
  {
   "cell_type": "code",
   "execution_count": 108,
   "id": "36aa1618",
   "metadata": {},
   "outputs": [],
   "source": [
    "docs = [nlp(text) for text in texts]"
   ]
  },
  {
   "cell_type": "code",
   "execution_count": 111,
   "id": "9bde284d",
   "metadata": {},
   "outputs": [],
   "source": [
    "vectors = [doc.vector for doc in docs]"
   ]
  },
  {
   "cell_type": "code",
   "execution_count": 114,
   "id": "1c8023a3",
   "metadata": {},
   "outputs": [],
   "source": [
    "num_cluster = min(len(df_categ), 10)"
   ]
  },
  {
   "cell_type": "code",
   "execution_count": 115,
   "id": "d6d1713b",
   "metadata": {},
   "outputs": [],
   "source": [
    "cluster_model = KMeans(n_clusters=num_cluster, random_state=0).fit(vectors)"
   ]
  },
  {
   "cell_type": "code",
   "execution_count": 116,
   "id": "9c158ba1",
   "metadata": {},
   "outputs": [
    {
     "data": {
      "text/plain": [
       "array([0, 1])"
      ]
     },
     "execution_count": 116,
     "metadata": {},
     "output_type": "execute_result"
    }
   ],
   "source": [
    "cluster_model.labels_"
   ]
  },
  {
   "cell_type": "code",
   "execution_count": 117,
   "id": "7c5feb1b",
   "metadata": {},
   "outputs": [
    {
     "name": "stderr",
     "output_type": "stream",
     "text": [
      "C:\\Users\\divya\\Anaconda3\\lib\\site-packages\\ipykernel_launcher.py:1: SettingWithCopyWarning: \n",
      "A value is trying to be set on a copy of a slice from a DataFrame.\n",
      "Try using .loc[row_indexer,col_indexer] = value instead\n",
      "\n",
      "See the caveats in the documentation: https://pandas.pydata.org/pandas-docs/stable/user_guide/indexing.html#returning-a-view-versus-a-copy\n",
      "  \"\"\"Entry point for launching an IPython kernel.\n"
     ]
    }
   ],
   "source": [
    "df_categ['Labels'] = cluster_model.labels_"
   ]
  },
  {
   "cell_type": "markdown",
   "id": "e7eb39a0",
   "metadata": {},
   "source": [
    "Predict"
   ]
  },
  {
   "cell_type": "code",
   "execution_count": 118,
   "id": "fcca8657",
   "metadata": {},
   "outputs": [],
   "source": [
    "text = recom_req_dict[categ]"
   ]
  },
  {
   "cell_type": "code",
   "execution_count": 119,
   "id": "2625321e",
   "metadata": {},
   "outputs": [],
   "source": [
    "doc = nlp(text)"
   ]
  },
  {
   "cell_type": "code",
   "execution_count": 120,
   "id": "4e98b7b6",
   "metadata": {},
   "outputs": [],
   "source": [
    "vector = doc.vector"
   ]
  },
  {
   "cell_type": "code",
   "execution_count": 121,
   "id": "96a75091",
   "metadata": {},
   "outputs": [
    {
     "data": {
      "text/plain": [
       "array([0])"
      ]
     },
     "execution_count": 121,
     "metadata": {},
     "output_type": "execute_result"
    }
   ],
   "source": [
    "cluster_model.predict([vector])"
   ]
  },
  {
   "cell_type": "code",
   "execution_count": 123,
   "id": "032bf0f4",
   "metadata": {},
   "outputs": [
    {
     "data": {
      "text/html": [
       "<div>\n",
       "<style scoped>\n",
       "    .dataframe tbody tr th:only-of-type {\n",
       "        vertical-align: middle;\n",
       "    }\n",
       "\n",
       "    .dataframe tbody tr th {\n",
       "        vertical-align: top;\n",
       "    }\n",
       "\n",
       "    .dataframe thead th {\n",
       "        text-align: right;\n",
       "    }\n",
       "</style>\n",
       "<table border=\"1\" class=\"dataframe\">\n",
       "  <thead>\n",
       "    <tr style=\"text-align: right;\">\n",
       "      <th></th>\n",
       "      <th>WikiID</th>\n",
       "      <th>Entity</th>\n",
       "      <th>Type</th>\n",
       "      <th>Labels</th>\n",
       "    </tr>\n",
       "  </thead>\n",
       "  <tbody>\n",
       "    <tr>\n",
       "      <th>26921</th>\n",
       "      <td>Q10524313</td>\n",
       "      <td>hippologist</td>\n",
       "      <td>Scientist</td>\n",
       "      <td>0</td>\n",
       "    </tr>\n",
       "  </tbody>\n",
       "</table>\n",
       "</div>"
      ],
      "text/plain": [
       "          WikiID       Entity       Type  Labels\n",
       "26921  Q10524313  hippologist  Scientist       0"
      ]
     },
     "execution_count": 123,
     "metadata": {},
     "output_type": "execute_result"
    }
   ],
   "source": [
    "df_categ[df_categ['Labels'] == 0]"
   ]
  },
  {
   "cell_type": "code",
   "execution_count": null,
   "id": "c768976f",
   "metadata": {},
   "outputs": [],
   "source": [
    "\n"
   ]
  },
  {
   "cell_type": "code",
   "execution_count": null,
   "id": "c276a5b7",
   "metadata": {},
   "outputs": [],
   "source": []
  },
  {
   "cell_type": "markdown",
   "id": "c97daa09",
   "metadata": {},
   "source": [
    "Exploring"
   ]
  },
  {
   "cell_type": "code",
   "execution_count": 132,
   "id": "04931b44",
   "metadata": {},
   "outputs": [
    {
     "data": {
      "text/html": [
       "<div>\n",
       "<style scoped>\n",
       "    .dataframe tbody tr th:only-of-type {\n",
       "        vertical-align: middle;\n",
       "    }\n",
       "\n",
       "    .dataframe tbody tr th {\n",
       "        vertical-align: top;\n",
       "    }\n",
       "\n",
       "    .dataframe thead th {\n",
       "        text-align: right;\n",
       "    }\n",
       "</style>\n",
       "<table border=\"1\" class=\"dataframe\">\n",
       "  <thead>\n",
       "    <tr style=\"text-align: right;\">\n",
       "      <th></th>\n",
       "      <th>WikiID</th>\n",
       "      <th>Entity</th>\n",
       "      <th>Type</th>\n",
       "    </tr>\n",
       "  </thead>\n",
       "  <tbody>\n",
       "    <tr>\n",
       "      <th>26865</th>\n",
       "      <td>Q10396596</td>\n",
       "      <td>Ātea</td>\n",
       "      <td>Rocket</td>\n",
       "    </tr>\n",
       "    <tr>\n",
       "      <th>26866</th>\n",
       "      <td>Q1079362</td>\n",
       "      <td>HEAT 1X Tycho Brahe</td>\n",
       "      <td>Rocket</td>\n",
       "    </tr>\n",
       "    <tr>\n",
       "      <th>26867</th>\n",
       "      <td>Q1144839</td>\n",
       "      <td>R4M</td>\n",
       "      <td>Rocket</td>\n",
       "    </tr>\n",
       "    <tr>\n",
       "      <th>26868</th>\n",
       "      <td>Q130663</td>\n",
       "      <td>Leopard</td>\n",
       "      <td>Rocket</td>\n",
       "    </tr>\n",
       "    <tr>\n",
       "      <th>26869</th>\n",
       "      <td>Q1344031</td>\n",
       "      <td>Congreve rocket</td>\n",
       "      <td>Rocket</td>\n",
       "    </tr>\n",
       "    <tr>\n",
       "      <th>26870</th>\n",
       "      <td>Q1364106</td>\n",
       "      <td>A-002</td>\n",
       "      <td>Rocket</td>\n",
       "    </tr>\n",
       "    <tr>\n",
       "      <th>26871</th>\n",
       "      <td>Q1366534</td>\n",
       "      <td>Nimrod</td>\n",
       "      <td>Rocket</td>\n",
       "    </tr>\n",
       "    <tr>\n",
       "      <th>26872</th>\n",
       "      <td>Q1367433</td>\n",
       "      <td>A-004</td>\n",
       "      <td>Rocket</td>\n",
       "    </tr>\n",
       "    <tr>\n",
       "      <th>26873</th>\n",
       "      <td>Q1419024</td>\n",
       "      <td>Rubis</td>\n",
       "      <td>Rocket</td>\n",
       "    </tr>\n",
       "    <tr>\n",
       "      <th>26874</th>\n",
       "      <td>Q15021</td>\n",
       "      <td>Aero High</td>\n",
       "      <td>Rocket</td>\n",
       "    </tr>\n",
       "    <tr>\n",
       "      <th>26875</th>\n",
       "      <td>Q152312</td>\n",
       "      <td>Black Knight</td>\n",
       "      <td>Rocket</td>\n",
       "    </tr>\n",
       "    <tr>\n",
       "      <th>26876</th>\n",
       "      <td>Q17391</td>\n",
       "      <td>Antares</td>\n",
       "      <td>Rocket</td>\n",
       "    </tr>\n",
       "    <tr>\n",
       "      <th>26877</th>\n",
       "      <td>Q18379</td>\n",
       "      <td>Ariane 2</td>\n",
       "      <td>Rocket</td>\n",
       "    </tr>\n",
       "    <tr>\n",
       "      <th>26878</th>\n",
       "      <td>Q18381</td>\n",
       "      <td>Ariane 3</td>\n",
       "      <td>Rocket</td>\n",
       "    </tr>\n",
       "    <tr>\n",
       "      <th>26879</th>\n",
       "      <td>Q18387</td>\n",
       "      <td>Ariane 4</td>\n",
       "      <td>Rocket</td>\n",
       "    </tr>\n",
       "    <tr>\n",
       "      <th>26880</th>\n",
       "      <td>Q23749</td>\n",
       "      <td>Belier</td>\n",
       "      <td>Rocket</td>\n",
       "    </tr>\n",
       "    <tr>\n",
       "      <th>26881</th>\n",
       "      <td>Q2386871</td>\n",
       "      <td>Tacite</td>\n",
       "      <td>Rocket</td>\n",
       "    </tr>\n",
       "    <tr>\n",
       "      <th>26882</th>\n",
       "      <td>Q248551</td>\n",
       "      <td>Conestoga</td>\n",
       "      <td>Rocket</td>\n",
       "    </tr>\n",
       "    <tr>\n",
       "      <th>26883</th>\n",
       "      <td>Q294352</td>\n",
       "      <td>ALAS</td>\n",
       "      <td>Rocket</td>\n",
       "    </tr>\n",
       "    <tr>\n",
       "      <th>26884</th>\n",
       "      <td>Q3031336</td>\n",
       "      <td>RP-3</td>\n",
       "      <td>Rocket</td>\n",
       "    </tr>\n",
       "    <tr>\n",
       "      <th>26885</th>\n",
       "      <td>Q3196199</td>\n",
       "      <td>Kholod</td>\n",
       "      <td>Rocket</td>\n",
       "    </tr>\n",
       "    <tr>\n",
       "      <th>26886</th>\n",
       "      <td>Q35337</td>\n",
       "      <td>Block D-2 11S824F</td>\n",
       "      <td>Rocket</td>\n",
       "    </tr>\n",
       "    <tr>\n",
       "      <th>26887</th>\n",
       "      <td>Q35347</td>\n",
       "      <td>Block DM-2M 11S861-01</td>\n",
       "      <td>Rocket</td>\n",
       "    </tr>\n",
       "    <tr>\n",
       "      <th>26888</th>\n",
       "      <td>Q35369</td>\n",
       "      <td>Block DM-2 11S861</td>\n",
       "      <td>Rocket</td>\n",
       "    </tr>\n",
       "    <tr>\n",
       "      <th>26889</th>\n",
       "      <td>Q35380</td>\n",
       "      <td>Block DM-5 17S40</td>\n",
       "      <td>Rocket</td>\n",
       "    </tr>\n",
       "    <tr>\n",
       "      <th>26890</th>\n",
       "      <td>Q35415</td>\n",
       "      <td>Block DM 11S86</td>\n",
       "      <td>Rocket</td>\n",
       "    </tr>\n",
       "    <tr>\n",
       "      <th>26891</th>\n",
       "      <td>Q35430</td>\n",
       "      <td>Block D 11S824</td>\n",
       "      <td>Rocket</td>\n",
       "    </tr>\n",
       "    <tr>\n",
       "      <th>26892</th>\n",
       "      <td>Q35437</td>\n",
       "      <td>Block L Molniya 8K78</td>\n",
       "      <td>Rocket</td>\n",
       "    </tr>\n",
       "    <tr>\n",
       "      <th>26893</th>\n",
       "      <td>Q35450</td>\n",
       "      <td>Block L Molniya 8K78M</td>\n",
       "      <td>Rocket</td>\n",
       "    </tr>\n",
       "    <tr>\n",
       "      <th>26894</th>\n",
       "      <td>Q367581</td>\n",
       "      <td>McDonnell Douglas DC-X</td>\n",
       "      <td>Rocket</td>\n",
       "    </tr>\n",
       "    <tr>\n",
       "      <th>26895</th>\n",
       "      <td>Q380124</td>\n",
       "      <td>Daniel</td>\n",
       "      <td>Rocket</td>\n",
       "    </tr>\n",
       "    <tr>\n",
       "      <th>26896</th>\n",
       "      <td>Q3887922</td>\n",
       "      <td>PARCA</td>\n",
       "      <td>Rocket</td>\n",
       "    </tr>\n",
       "    <tr>\n",
       "      <th>26897</th>\n",
       "      <td>Q39745</td>\n",
       "      <td>Kumulus</td>\n",
       "      <td>Rocket</td>\n",
       "    </tr>\n",
       "    <tr>\n",
       "      <th>26898</th>\n",
       "      <td>Q4494225</td>\n",
       "      <td>Х-45</td>\n",
       "      <td>Rocket</td>\n",
       "    </tr>\n",
       "    <tr>\n",
       "      <th>26899</th>\n",
       "      <td>Q4653915</td>\n",
       "      <td>ARS-2</td>\n",
       "      <td>Rocket</td>\n",
       "    </tr>\n",
       "    <tr>\n",
       "      <th>26900</th>\n",
       "      <td>Q4654092</td>\n",
       "      <td>ASCAMP</td>\n",
       "      <td>Rocket</td>\n",
       "    </tr>\n",
       "    <tr>\n",
       "      <th>26901</th>\n",
       "      <td>Q478603</td>\n",
       "      <td>Pegasus</td>\n",
       "      <td>Rocket</td>\n",
       "    </tr>\n",
       "    <tr>\n",
       "      <th>26902</th>\n",
       "      <td>Q4868621</td>\n",
       "      <td>Batar</td>\n",
       "      <td>Rocket</td>\n",
       "    </tr>\n",
       "    <tr>\n",
       "      <th>26903</th>\n",
       "      <td>Q48997</td>\n",
       "      <td>Centaure</td>\n",
       "      <td>Rocket</td>\n",
       "    </tr>\n",
       "    <tr>\n",
       "      <th>26904</th>\n",
       "      <td>Q49527</td>\n",
       "      <td>Delta A</td>\n",
       "      <td>Rocket</td>\n",
       "    </tr>\n",
       "    <tr>\n",
       "      <th>26905</th>\n",
       "      <td>Q49548</td>\n",
       "      <td>Delta-K</td>\n",
       "      <td>Rocket</td>\n",
       "    </tr>\n",
       "    <tr>\n",
       "      <th>26906</th>\n",
       "      <td>Q49553</td>\n",
       "      <td>Delta M</td>\n",
       "      <td>Rocket</td>\n",
       "    </tr>\n",
       "    <tr>\n",
       "      <th>26907</th>\n",
       "      <td>Q49555</td>\n",
       "      <td>Delta N</td>\n",
       "      <td>Rocket</td>\n",
       "    </tr>\n",
       "    <tr>\n",
       "      <th>26908</th>\n",
       "      <td>Q49556</td>\n",
       "      <td>Delta-P</td>\n",
       "      <td>Rocket</td>\n",
       "    </tr>\n",
       "    <tr>\n",
       "      <th>26909</th>\n",
       "      <td>Q53698</td>\n",
       "      <td>Long March 1</td>\n",
       "      <td>Rocket</td>\n",
       "    </tr>\n",
       "    <tr>\n",
       "      <th>26910</th>\n",
       "      <td>Q5597534</td>\n",
       "      <td>Grasshopper</td>\n",
       "      <td>Rocket</td>\n",
       "    </tr>\n",
       "    <tr>\n",
       "      <th>26911</th>\n",
       "      <td>Q5736664</td>\n",
       "      <td>C-7</td>\n",
       "      <td>Rocket</td>\n",
       "    </tr>\n",
       "    <tr>\n",
       "      <th>26912</th>\n",
       "      <td>Q5988250</td>\n",
       "      <td>MERA</td>\n",
       "      <td>Rocket</td>\n",
       "    </tr>\n",
       "    <tr>\n",
       "      <th>26913</th>\n",
       "      <td>Q6119291</td>\n",
       "      <td>Kosmos-1</td>\n",
       "      <td>Rocket</td>\n",
       "    </tr>\n",
       "    <tr>\n",
       "      <th>26914</th>\n",
       "      <td>Q6137394</td>\n",
       "      <td>Super V-2</td>\n",
       "      <td>Rocket</td>\n",
       "    </tr>\n",
       "    <tr>\n",
       "      <th>26915</th>\n",
       "      <td>Q64127</td>\n",
       "      <td>Space Launch System</td>\n",
       "      <td>Rocket</td>\n",
       "    </tr>\n",
       "    <tr>\n",
       "      <th>26916</th>\n",
       "      <td>Q6443914</td>\n",
       "      <td>Titan V</td>\n",
       "      <td>Rocket</td>\n",
       "    </tr>\n",
       "    <tr>\n",
       "      <th>26917</th>\n",
       "      <td>Q6948727</td>\n",
       "      <td>Mysorean rockets</td>\n",
       "      <td>Rocket</td>\n",
       "    </tr>\n",
       "    <tr>\n",
       "      <th>26918</th>\n",
       "      <td>Q7073104</td>\n",
       "      <td>OTRAG</td>\n",
       "      <td>Rocket</td>\n",
       "    </tr>\n",
       "    <tr>\n",
       "      <th>26919</th>\n",
       "      <td>Q7907157</td>\n",
       "      <td>VLM</td>\n",
       "      <td>Rocket</td>\n",
       "    </tr>\n",
       "    <tr>\n",
       "      <th>26920</th>\n",
       "      <td>Q9335951</td>\n",
       "      <td>Shavit-1</td>\n",
       "      <td>Rocket</td>\n",
       "    </tr>\n",
       "  </tbody>\n",
       "</table>\n",
       "</div>"
      ],
      "text/plain": [
       "          WikiID                  Entity    Type\n",
       "26865  Q10396596                    Ātea  Rocket\n",
       "26866   Q1079362     HEAT 1X Tycho Brahe  Rocket\n",
       "26867   Q1144839                     R4M  Rocket\n",
       "26868    Q130663                 Leopard  Rocket\n",
       "26869   Q1344031         Congreve rocket  Rocket\n",
       "26870   Q1364106                   A-002  Rocket\n",
       "26871   Q1366534                  Nimrod  Rocket\n",
       "26872   Q1367433                   A-004  Rocket\n",
       "26873   Q1419024                   Rubis  Rocket\n",
       "26874     Q15021               Aero High  Rocket\n",
       "26875    Q152312            Black Knight  Rocket\n",
       "26876     Q17391                 Antares  Rocket\n",
       "26877     Q18379                Ariane 2  Rocket\n",
       "26878     Q18381                Ariane 3  Rocket\n",
       "26879     Q18387                Ariane 4  Rocket\n",
       "26880     Q23749                  Belier  Rocket\n",
       "26881   Q2386871                  Tacite  Rocket\n",
       "26882    Q248551               Conestoga  Rocket\n",
       "26883    Q294352                    ALAS  Rocket\n",
       "26884   Q3031336                    RP-3  Rocket\n",
       "26885   Q3196199                  Kholod  Rocket\n",
       "26886     Q35337       Block D-2 11S824F  Rocket\n",
       "26887     Q35347   Block DM-2M 11S861-01  Rocket\n",
       "26888     Q35369       Block DM-2 11S861  Rocket\n",
       "26889     Q35380        Block DM-5 17S40  Rocket\n",
       "26890     Q35415          Block DM 11S86  Rocket\n",
       "26891     Q35430          Block D 11S824  Rocket\n",
       "26892     Q35437    Block L Molniya 8K78  Rocket\n",
       "26893     Q35450   Block L Molniya 8K78M  Rocket\n",
       "26894    Q367581  McDonnell Douglas DC-X  Rocket\n",
       "26895    Q380124                  Daniel  Rocket\n",
       "26896   Q3887922                   PARCA  Rocket\n",
       "26897     Q39745                 Kumulus  Rocket\n",
       "26898   Q4494225                    Х-45  Rocket\n",
       "26899   Q4653915                   ARS-2  Rocket\n",
       "26900   Q4654092                  ASCAMP  Rocket\n",
       "26901    Q478603                 Pegasus  Rocket\n",
       "26902   Q4868621                   Batar  Rocket\n",
       "26903     Q48997                Centaure  Rocket\n",
       "26904     Q49527                 Delta A  Rocket\n",
       "26905     Q49548                 Delta-K  Rocket\n",
       "26906     Q49553                 Delta M  Rocket\n",
       "26907     Q49555                 Delta N  Rocket\n",
       "26908     Q49556                 Delta-P  Rocket\n",
       "26909     Q53698            Long March 1  Rocket\n",
       "26910   Q5597534             Grasshopper  Rocket\n",
       "26911   Q5736664                     C-7  Rocket\n",
       "26912   Q5988250                    MERA  Rocket\n",
       "26913   Q6119291                Kosmos-1  Rocket\n",
       "26914   Q6137394               Super V-2  Rocket\n",
       "26915     Q64127     Space Launch System  Rocket\n",
       "26916   Q6443914                 Titan V  Rocket\n",
       "26917   Q6948727        Mysorean rockets  Rocket\n",
       "26918   Q7073104                   OTRAG  Rocket\n",
       "26919   Q7907157                     VLM  Rocket\n",
       "26920   Q9335951                Shavit-1  Rocket"
      ]
     },
     "execution_count": 132,
     "metadata": {},
     "output_type": "execute_result"
    }
   ],
   "source": [
    "df[df['Type'] == 'Rocket']"
   ]
  },
  {
   "cell_type": "code",
   "execution_count": 133,
   "id": "5151c7c1",
   "metadata": {},
   "outputs": [
    {
     "ename": "SyntaxError",
     "evalue": "invalid syntax (<ipython-input-133-79e353c96c98>, line 1)",
     "output_type": "error",
     "traceback": [
      "\u001b[1;36m  File \u001b[1;32m\"<ipython-input-133-79e353c96c98>\"\u001b[1;36m, line \u001b[1;32m1\u001b[0m\n\u001b[1;33m    Skyscraper, Board Game, Food, Rocket\u001b[0m\n\u001b[1;37m                         ^\u001b[0m\n\u001b[1;31mSyntaxError\u001b[0m\u001b[1;31m:\u001b[0m invalid syntax\n"
     ]
    }
   ],
   "source": [
    "Skyscraper, Board Game, Food, Rocket"
   ]
  },
  {
   "cell_type": "code",
   "execution_count": null,
   "id": "a0edc159",
   "metadata": {},
   "outputs": [],
   "source": []
  }
 ],
 "metadata": {
  "kernelspec": {
   "display_name": "Python 3",
   "language": "python",
   "name": "python3"
  },
  "language_info": {
   "codemirror_mode": {
    "name": "ipython",
    "version": 3
   },
   "file_extension": ".py",
   "mimetype": "text/x-python",
   "name": "python",
   "nbconvert_exporter": "python",
   "pygments_lexer": "ipython3",
   "version": "3.7.11"
  }
 },
 "nbformat": 4,
 "nbformat_minor": 5
}
