{
 "cells": [
  {
   "cell_type": "code",
   "execution_count": 1,
   "id": "5576f8d9",
   "metadata": {},
   "outputs": [],
   "source": [
    "import spacy\n",
    "from collections import Counter\n",
    "import traceback\n",
    "from mining import extract_text\n",
    "\n",
    "#project module imports:\n",
    "from clustering import get_cluster_memberships\n",
    "from knowledge_graph import construct_knowledge_graph\n",
    "import nlp_tasks as mynlp\n",
    "import clustering\n",
    "\n",
    "import pandas as pd\n",
    "nlp = spacy.load(\"en_core_web_lg\")\n"
   ]
  },
  {
   "cell_type": "code",
   "execution_count": 141,
   "id": "fce482a2",
   "metadata": {},
   "outputs": [],
   "source": [
    "df = pd.read_csv('wikidata_instance_types_dataset_cleaned.csv')"
   ]
  },
  {
   "cell_type": "code",
   "execution_count": 142,
   "id": "f3479ed7",
   "metadata": {},
   "outputs": [],
   "source": [
    "categories = list(df['Type'].unique())"
   ]
  },
  {
   "cell_type": "code",
   "execution_count": 143,
   "id": "0199c416",
   "metadata": {},
   "outputs": [
    {
     "data": {
      "text/plain": [
       "['Person',\n",
       " 'Album',\n",
       " 'Road',\n",
       " 'Village',\n",
       " 'RailwayStation',\n",
       " 'Museum',\n",
       " 'Taxon',\n",
       " 'Airport',\n",
       " 'Monument',\n",
       " 'Town',\n",
       " 'River',\n",
       " 'Port',\n",
       " 'Monastery',\n",
       " 'Company',\n",
       " 'Band',\n",
       " 'Film',\n",
       " 'EducationalInstitution',\n",
       " 'RailwayLine',\n",
       " 'Award',\n",
       " 'Locality',\n",
       " 'City',\n",
       " 'Synagogue',\n",
       " 'Profession',\n",
       " 'Settlement',\n",
       " 'Musical',\n",
       " 'SoccerClub',\n",
       " 'Church',\n",
       " 'Family',\n",
       " 'WikimediaTemplate',\n",
       " 'Street',\n",
       " 'FilmFestival',\n",
       " 'Hospital',\n",
       " 'Tunnel',\n",
       " 'Cave',\n",
       " 'VideoGame',\n",
       " 'SportsTeam',\n",
       " 'NobleFamily',\n",
       " 'Mountain',\n",
       " 'School',\n",
       " 'Mosque',\n",
       " 'Newspaper',\n",
       " 'Organisation',\n",
       " 'PoliticalParty',\n",
       " 'Tower',\n",
       " 'TelevisionShow',\n",
       " 'AcademicSubject',\n",
       " 'NuclearPowerStation',\n",
       " 'MusicFestival',\n",
       " 'Airline',\n",
       " 'Prison',\n",
       " 'Disease',\n",
       " 'Lake',\n",
       " 'GivenName',\n",
       " 'Theatre',\n",
       " 'Single',\n",
       " 'Stream',\n",
       " 'SportsLeague',\n",
       " 'FormerMunicipality',\n",
       " 'Building',\n",
       " 'Archipelago',\n",
       " 'Island',\n",
       " 'AcademicJournal',\n",
       " 'Hotel',\n",
       " 'SkiResort',\n",
       " 'Dam',\n",
       " 'FictionalCharacter',\n",
       " 'Skyscraper',\n",
       " 'MilitaryUnit',\n",
       " 'ChemicalCompound',\n",
       " 'Deity',\n",
       " 'HistoricalRegion',\n",
       " 'RecordLabel',\n",
       " 'EthnicGroup',\n",
       " 'ProtectedArea',\n",
       " 'Software',\n",
       " 'University',\n",
       " 'ProgrammingLanguage',\n",
       " 'Galaxy',\n",
       " 'Square',\n",
       " 'ReligiousBuilding',\n",
       " 'MountainRange',\n",
       " 'HockeyTeam',\n",
       " 'MusicGenre',\n",
       " 'TradeUnion',\n",
       " 'Winery',\n",
       " 'Algorithm',\n",
       " 'Novel',\n",
       " 'Weapon',\n",
       " 'Anime',\n",
       " 'MetroStation',\n",
       " 'Castle',\n",
       " 'Cemetery',\n",
       " 'CardGame',\n",
       " 'Watermill',\n",
       " 'BoardGame',\n",
       " 'MountainPass',\n",
       " 'WrittenWork',\n",
       " 'ResearchProject',\n",
       " 'GovernmentAgency',\n",
       " 'Contest',\n",
       " 'Country',\n",
       " 'Non-ProfitOrganisation',\n",
       " 'Election',\n",
       " 'Magazine',\n",
       " 'Library',\n",
       " 'Play',\n",
       " 'Factory',\n",
       " 'Ship',\n",
       " 'NaturalRegion',\n",
       " 'Artery',\n",
       " 'Shrine',\n",
       " 'LunarCrater',\n",
       " 'Cinema',\n",
       " 'MusicalWork',\n",
       " 'Asteroid',\n",
       " 'Work',\n",
       " 'Event',\n",
       " 'HotSpring',\n",
       " 'Activity',\n",
       " 'Tournament',\n",
       " 'LightNovel',\n",
       " 'Ideology',\n",
       " 'RailwayTunnel',\n",
       " 'Archive',\n",
       " 'RoadTunnel',\n",
       " 'Bridge',\n",
       " 'Name',\n",
       " 'Population',\n",
       " 'HistoricalPeriod',\n",
       " 'Casino',\n",
       " 'Restaurant',\n",
       " 'Beer',\n",
       " 'Windmill',\n",
       " 'Game',\n",
       " 'Valley',\n",
       " 'Mill',\n",
       " 'Zoo',\n",
       " 'MedicalSpecialty',\n",
       " 'Aircraft',\n",
       " 'ShoppingMall',\n",
       " 'Volcano',\n",
       " 'Food',\n",
       " 'Organ',\n",
       " 'Grape',\n",
       " 'Gene',\n",
       " 'HandballTeam',\n",
       " 'BrownDwarf',\n",
       " 'RadioProgram',\n",
       " 'LawFirm',\n",
       " 'PowerStation',\n",
       " 'Lighthouse',\n",
       " 'Holiday',\n",
       " 'Protein',\n",
       " 'LegalCase',\n",
       " 'Opera',\n",
       " 'Broadcaster',\n",
       " 'Glacier',\n",
       " 'Enzyme',\n",
       " 'GolfCourse',\n",
       " 'Book',\n",
       " 'Train',\n",
       " 'Employer',\n",
       " 'Flag',\n",
       " 'SiteOfSpecialScientificInterest',\n",
       " 'Poem',\n",
       " 'Legislature',\n",
       " 'SolarEclipse',\n",
       " 'State',\n",
       " 'Manga',\n",
       " 'Motorcycle',\n",
       " 'NationalAnthem',\n",
       " 'Garden',\n",
       " 'Sport',\n",
       " 'Meeting',\n",
       " 'Tax',\n",
       " 'AnatomicalStructure',\n",
       " 'Pyramid',\n",
       " 'Judge',\n",
       " 'GolfTournament',\n",
       " 'Wine',\n",
       " 'Muscle',\n",
       " 'CultivatedVariety',\n",
       " 'LaunchPad',\n",
       " 'Cat',\n",
       " 'PublicService',\n",
       " 'AdministrativeRegion',\n",
       " 'BroadcastNetwork',\n",
       " 'Vein',\n",
       " 'GeologicalPeriod',\n",
       " 'Drug',\n",
       " 'Rocket',\n",
       " 'Constellation',\n",
       " 'SpaceStation',\n",
       " 'WaterTower',\n",
       " 'TeamSport',\n",
       " 'Media',\n",
       " 'TopLevelDomain',\n",
       " 'Spacecraft',\n",
       " 'Monarch',\n",
       " 'BaseballLeague',\n",
       " 'Guitar',\n",
       " 'CyclingRace',\n",
       " 'Scientist',\n",
       " 'Letter',\n",
       " 'Year',\n",
       " 'Parliament',\n",
       " 'Animal',\n",
       " 'Identifier',\n",
       " 'SpaceMission',\n",
       " 'Statistic',\n",
       " 'Cartoon',\n",
       " 'RaceTrack',\n",
       " 'Ocean',\n",
       " 'AcademicConference',\n",
       " 'Eukaryote',\n",
       " 'Manhwa',\n",
       " 'Ligament',\n",
       " 'TennisTournament',\n",
       " 'Medicine',\n",
       " 'Governor',\n",
       " 'Bone',\n",
       " 'Intercommunality',\n",
       " 'Manhua',\n",
       " 'Plant',\n",
       " 'Priest',\n",
       " 'Sales',\n",
       " 'WaterRide',\n",
       " 'Drama',\n",
       " 'OverseasDepartment',\n",
       " 'Agent',\n",
       " 'Altitude',\n",
       " 'President',\n",
       " 'Insect',\n",
       " 'Language',\n",
       " 'Fish',\n",
       " 'Biomolecule',\n",
       " 'Nerve',\n",
       " 'Prefecture',\n",
       " 'SerialKiller',\n",
       " 'Singer',\n",
       " 'VicePresident',\n",
       " 'TermOfOffice',\n",
       " 'Mammal',\n",
       " 'Locomotive',\n",
       " 'RadioHost',\n",
       " 'TelevisionHost',\n",
       " 'Wrestler',\n",
       " 'Mayor',\n",
       " 'Station',\n",
       " 'MobilePhone',\n",
       " 'Skater',\n",
       " 'Chancellor']"
      ]
     },
     "execution_count": 143,
     "metadata": {},
     "output_type": "execute_result"
    }
   ],
   "source": [
    "categories"
   ]
  },
  {
   "cell_type": "code",
   "execution_count": 144,
   "id": "5e3492dc",
   "metadata": {},
   "outputs": [
    {
     "data": {
      "text/plain": [
       "31"
      ]
     },
     "execution_count": 144,
     "metadata": {},
     "output_type": "execute_result"
    }
   ],
   "source": [
    "filtered_categories = 'Monument Person Company Film Locality City Profession Musical SportsTeam Organisation PoliticalParty TelevisionShow SportsLeague Building FictionalCharacter Skyscraper MusicGenre Novel Anime BoardGame Magazine Cinema MusicalWork Food Book Rocket Scientist Animal Plant President Singer'.split(' ')\n",
    "len(filtered_categories)"
   ]
  },
  {
   "cell_type": "code",
   "execution_count": 145,
   "id": "99cd5be2",
   "metadata": {},
   "outputs": [
    {
     "data": {
      "text/plain": [
       "2081023"
      ]
     },
     "execution_count": 145,
     "metadata": {},
     "output_type": "execute_result"
    }
   ],
   "source": [
    "df = df[df['Type'].isin(filtered_categories)]\n",
    "len(df)"
   ]
  },
  {
   "cell_type": "code",
   "execution_count": 148,
   "id": "21dad8fd",
   "metadata": {},
   "outputs": [],
   "source": [
    "new_df = pd.DataFrame()\n",
    "for category in filtered_categories:\n",
    "    new_df = new_df.append(df[df['Type'] == category].head(2000), ignore_index = True)"
   ]
  },
  {
   "cell_type": "code",
   "execution_count": 149,
   "id": "6214a0a3",
   "metadata": {},
   "outputs": [
    {
     "data": {
      "text/plain": [
       "40873"
      ]
     },
     "execution_count": 149,
     "metadata": {},
     "output_type": "execute_result"
    }
   ],
   "source": [
    "len(new_df)"
   ]
  },
  {
   "cell_type": "code",
   "execution_count": 151,
   "id": "818ed25a",
   "metadata": {},
   "outputs": [],
   "source": [
    "new_df.to_csv('filtered_dataset.csv', index = False)"
   ]
  },
  {
   "cell_type": "code",
   "execution_count": 154,
   "id": "3a934312",
   "metadata": {},
   "outputs": [
    {
     "data": {
      "text/plain": [
       "Type\n",
       "Animal                   7\n",
       "Anime                  126\n",
       "BoardGame             1373\n",
       "Book                   259\n",
       "Building              2000\n",
       "Cinema                2000\n",
       "City                  2000\n",
       "Company               2000\n",
       "FictionalCharacter    2000\n",
       "Film                  2000\n",
       "Food                   284\n",
       "Locality              2000\n",
       "Magazine              2000\n",
       "Monument              2000\n",
       "MusicGenre            2000\n",
       "Musical               1442\n",
       "MusicalWork            390\n",
       "Novel                 1092\n",
       "Organisation          2000\n",
       "Person                2000\n",
       "Plant                   17\n",
       "PoliticalParty        2000\n",
       "President                3\n",
       "Profession            2000\n",
       "Rocket                  77\n",
       "Scientist                2\n",
       "Singer                   3\n",
       "Skyscraper            2000\n",
       "SportsLeague          2000\n",
       "SportsTeam            1798\n",
       "TelevisionShow        2000\n",
       "dtype: int64"
      ]
     },
     "execution_count": 154,
     "metadata": {},
     "output_type": "execute_result"
    }
   ],
   "source": [
    "new_df.groupby('Type').size()"
   ]
  },
  {
   "cell_type": "code",
   "execution_count": 163,
   "id": "4eff008c",
   "metadata": {},
   "outputs": [],
   "source": []
  },
  {
   "cell_type": "code",
   "execution_count": null,
   "id": "4029f125",
   "metadata": {},
   "outputs": [],
   "source": []
  },
  {
   "cell_type": "code",
   "execution_count": 174,
   "id": "5700867c",
   "metadata": {},
   "outputs": [],
   "source": [
    "doc = nlp(\"Dosa\")"
   ]
  },
  {
   "cell_type": "code",
   "execution_count": 175,
   "id": "8ab0911e",
   "metadata": {},
   "outputs": [
    {
     "name": "stderr",
     "output_type": "stream",
     "text": [
      "C:\\Users\\divya\\Anaconda3\\lib\\runpy.py:193: UserWarning: [W008] Evaluating Doc.similarity based on empty vectors.\n",
      "  \"__main__\", mod_spec)\n",
      "C:\\Users\\divya\\Anaconda3\\lib\\runpy.py:193: UserWarning: [W008] Evaluating Doc.similarity based on empty vectors.\n",
      "  \"__main__\", mod_spec)\n"
     ]
    }
   ],
   "source": [
    "scores = []\n",
    "i = 0\n",
    "for tp in types:\n",
    "    type_doc = nlp(tp)\n",
    "    scores.append(mynlp.get_similarity_score(doc, type_doc))"
   ]
  },
  {
   "cell_type": "code",
   "execution_count": 176,
   "id": "50913d58",
   "metadata": {},
   "outputs": [
    {
     "data": {
      "text/plain": [
       "0.21812703482163806"
      ]
     },
     "execution_count": 176,
     "metadata": {},
     "output_type": "execute_result"
    }
   ],
   "source": [
    "max(scores)"
   ]
  },
  {
   "cell_type": "code",
   "execution_count": 177,
   "id": "6c490afe",
   "metadata": {},
   "outputs": [
    {
     "data": {
      "text/plain": [
       "'Food'"
      ]
     },
     "execution_count": 177,
     "metadata": {},
     "output_type": "execute_result"
    }
   ],
   "source": [
    "types[scores.index(max(scores))]"
   ]
  },
  {
   "cell_type": "code",
   "execution_count": null,
   "id": "c4942355",
   "metadata": {},
   "outputs": [],
   "source": []
  },
  {
   "cell_type": "code",
   "execution_count": 48,
   "id": "217c4f05",
   "metadata": {},
   "outputs": [
    {
     "data": {
      "text/plain": [
       "array([41])"
      ]
     },
     "execution_count": 48,
     "metadata": {},
     "output_type": "execute_result"
    }
   ],
   "source": [
    "clustering.get_cluster_memberships([doc.vector])"
   ]
  },
  {
   "cell_type": "code",
   "execution_count": 54,
   "id": "d7495b35",
   "metadata": {},
   "outputs": [
    {
     "ename": "KeyboardInterrupt",
     "evalue": "",
     "output_type": "error",
     "traceback": [
      "\u001b[1;31m---------------------------------------------------------------------------\u001b[0m",
      "\u001b[1;31mKeyboardInterrupt\u001b[0m                         Traceback (most recent call last)",
      "\u001b[1;32m<ipython-input-54-02fd9c4ef96c>\u001b[0m in \u001b[0;36m<module>\u001b[1;34m\u001b[0m\n\u001b[0;32m      1\u001b[0m \u001b[0mX_input\u001b[0m \u001b[1;33m=\u001b[0m \u001b[1;33m[\u001b[0m\u001b[1;33m]\u001b[0m\u001b[1;33m\u001b[0m\u001b[1;33m\u001b[0m\u001b[0m\n\u001b[0;32m      2\u001b[0m \u001b[1;32mfor\u001b[0m \u001b[0mi\u001b[0m\u001b[1;33m,\u001b[0m \u001b[0mrow\u001b[0m \u001b[1;32min\u001b[0m \u001b[0mdf\u001b[0m\u001b[1;33m.\u001b[0m\u001b[0miterrows\u001b[0m\u001b[1;33m(\u001b[0m\u001b[1;33m)\u001b[0m\u001b[1;33m:\u001b[0m\u001b[1;33m\u001b[0m\u001b[1;33m\u001b[0m\u001b[0m\n\u001b[1;32m----> 3\u001b[1;33m     \u001b[0mdoc\u001b[0m \u001b[1;33m=\u001b[0m \u001b[0mnlp\u001b[0m\u001b[1;33m(\u001b[0m\u001b[0mrow\u001b[0m\u001b[1;33m[\u001b[0m\u001b[1;34m'Type'\u001b[0m\u001b[1;33m]\u001b[0m\u001b[1;33m)\u001b[0m\u001b[1;33m\u001b[0m\u001b[1;33m\u001b[0m\u001b[0m\n\u001b[0m\u001b[0;32m      4\u001b[0m     \u001b[0mX_input\u001b[0m\u001b[1;33m.\u001b[0m\u001b[0mappend\u001b[0m\u001b[1;33m(\u001b[0m\u001b[0mdoc\u001b[0m\u001b[1;33m.\u001b[0m\u001b[0mvector\u001b[0m\u001b[1;33m)\u001b[0m\u001b[1;33m\u001b[0m\u001b[1;33m\u001b[0m\u001b[0m\n",
      "\u001b[1;32m~\\Anaconda3\\lib\\site-packages\\spacy\\language.py\u001b[0m in \u001b[0;36m__call__\u001b[1;34m(self, text, disable, component_cfg)\u001b[0m\n\u001b[0;32m    383\u001b[0m             \u001b[1;32mif\u001b[0m \u001b[1;32mnot\u001b[0m \u001b[0mhasattr\u001b[0m\u001b[1;33m(\u001b[0m\u001b[0mproc\u001b[0m\u001b[1;33m,\u001b[0m \u001b[1;34m\"__call__\"\u001b[0m\u001b[1;33m)\u001b[0m\u001b[1;33m:\u001b[0m\u001b[1;33m\u001b[0m\u001b[1;33m\u001b[0m\u001b[0m\n\u001b[0;32m    384\u001b[0m                 \u001b[1;32mraise\u001b[0m \u001b[0mValueError\u001b[0m\u001b[1;33m(\u001b[0m\u001b[0mErrors\u001b[0m\u001b[1;33m.\u001b[0m\u001b[0mE003\u001b[0m\u001b[1;33m.\u001b[0m\u001b[0mformat\u001b[0m\u001b[1;33m(\u001b[0m\u001b[0mcomponent\u001b[0m\u001b[1;33m=\u001b[0m\u001b[0mtype\u001b[0m\u001b[1;33m(\u001b[0m\u001b[0mproc\u001b[0m\u001b[1;33m)\u001b[0m\u001b[1;33m,\u001b[0m \u001b[0mname\u001b[0m\u001b[1;33m=\u001b[0m\u001b[0mname\u001b[0m\u001b[1;33m)\u001b[0m\u001b[1;33m)\u001b[0m\u001b[1;33m\u001b[0m\u001b[1;33m\u001b[0m\u001b[0m\n\u001b[1;32m--> 385\u001b[1;33m             \u001b[0mdoc\u001b[0m \u001b[1;33m=\u001b[0m \u001b[0mproc\u001b[0m\u001b[1;33m(\u001b[0m\u001b[0mdoc\u001b[0m\u001b[1;33m,\u001b[0m \u001b[1;33m**\u001b[0m\u001b[0mcomponent_cfg\u001b[0m\u001b[1;33m.\u001b[0m\u001b[0mget\u001b[0m\u001b[1;33m(\u001b[0m\u001b[0mname\u001b[0m\u001b[1;33m,\u001b[0m \u001b[1;33m{\u001b[0m\u001b[1;33m}\u001b[0m\u001b[1;33m)\u001b[0m\u001b[1;33m)\u001b[0m\u001b[1;33m\u001b[0m\u001b[1;33m\u001b[0m\u001b[0m\n\u001b[0m\u001b[0;32m    386\u001b[0m             \u001b[1;32mif\u001b[0m \u001b[0mdoc\u001b[0m \u001b[1;32mis\u001b[0m \u001b[1;32mNone\u001b[0m\u001b[1;33m:\u001b[0m\u001b[1;33m\u001b[0m\u001b[1;33m\u001b[0m\u001b[0m\n\u001b[0;32m    387\u001b[0m                 \u001b[1;32mraise\u001b[0m \u001b[0mValueError\u001b[0m\u001b[1;33m(\u001b[0m\u001b[0mErrors\u001b[0m\u001b[1;33m.\u001b[0m\u001b[0mE005\u001b[0m\u001b[1;33m.\u001b[0m\u001b[0mformat\u001b[0m\u001b[1;33m(\u001b[0m\u001b[0mname\u001b[0m\u001b[1;33m=\u001b[0m\u001b[0mname\u001b[0m\u001b[1;33m)\u001b[0m\u001b[1;33m)\u001b[0m\u001b[1;33m\u001b[0m\u001b[1;33m\u001b[0m\u001b[0m\n",
      "\u001b[1;32mnn_parser.pyx\u001b[0m in \u001b[0;36mspacy.syntax.nn_parser.Parser.__call__\u001b[1;34m()\u001b[0m\n",
      "\u001b[1;32mnn_parser.pyx\u001b[0m in \u001b[0;36mspacy.syntax.nn_parser.Parser.predict\u001b[1;34m()\u001b[0m\n",
      "\u001b[1;32mnn_parser.pyx\u001b[0m in \u001b[0;36mspacy.syntax.nn_parser.Parser.greedy_parse\u001b[1;34m()\u001b[0m\n",
      "\u001b[1;32m~\\Anaconda3\\lib\\site-packages\\thinc\\neural\\_classes\\model.py\u001b[0m in \u001b[0;36m__call__\u001b[1;34m(self, x)\u001b[0m\n\u001b[0;32m    167\u001b[0m             \u001b[0mMust\u001b[0m \u001b[0mmatch\u001b[0m \u001b[0mexpected\u001b[0m \u001b[0mshape\u001b[0m\u001b[1;33m\u001b[0m\u001b[1;33m\u001b[0m\u001b[0m\n\u001b[0;32m    168\u001b[0m         \"\"\"\n\u001b[1;32m--> 169\u001b[1;33m         \u001b[1;32mreturn\u001b[0m \u001b[0mself\u001b[0m\u001b[1;33m.\u001b[0m\u001b[0mpredict\u001b[0m\u001b[1;33m(\u001b[0m\u001b[0mx\u001b[0m\u001b[1;33m)\u001b[0m\u001b[1;33m\u001b[0m\u001b[1;33m\u001b[0m\u001b[0m\n\u001b[0m\u001b[0;32m    170\u001b[0m \u001b[1;33m\u001b[0m\u001b[0m\n\u001b[0;32m    171\u001b[0m     \u001b[1;32mdef\u001b[0m \u001b[0mpipe\u001b[0m\u001b[1;33m(\u001b[0m\u001b[0mself\u001b[0m\u001b[1;33m,\u001b[0m \u001b[0mstream\u001b[0m\u001b[1;33m,\u001b[0m \u001b[0mbatch_size\u001b[0m\u001b[1;33m=\u001b[0m\u001b[1;36m128\u001b[0m\u001b[1;33m)\u001b[0m\u001b[1;33m:\u001b[0m\u001b[1;33m\u001b[0m\u001b[1;33m\u001b[0m\u001b[0m\n",
      "\u001b[1;32m~\\Anaconda3\\lib\\site-packages\\thinc\\neural\\_classes\\model.py\u001b[0m in \u001b[0;36mpredict\u001b[1;34m(self, X)\u001b[0m\n\u001b[0;32m    131\u001b[0m \u001b[1;33m\u001b[0m\u001b[0m\n\u001b[0;32m    132\u001b[0m     \u001b[1;32mdef\u001b[0m \u001b[0mpredict\u001b[0m\u001b[1;33m(\u001b[0m\u001b[0mself\u001b[0m\u001b[1;33m,\u001b[0m \u001b[0mX\u001b[0m\u001b[1;33m)\u001b[0m\u001b[1;33m:\u001b[0m\u001b[1;33m\u001b[0m\u001b[1;33m\u001b[0m\u001b[0m\n\u001b[1;32m--> 133\u001b[1;33m         \u001b[0my\u001b[0m\u001b[1;33m,\u001b[0m \u001b[0m_\u001b[0m \u001b[1;33m=\u001b[0m \u001b[0mself\u001b[0m\u001b[1;33m.\u001b[0m\u001b[0mbegin_update\u001b[0m\u001b[1;33m(\u001b[0m\u001b[0mX\u001b[0m\u001b[1;33m,\u001b[0m \u001b[0mdrop\u001b[0m\u001b[1;33m=\u001b[0m\u001b[1;32mNone\u001b[0m\u001b[1;33m)\u001b[0m\u001b[1;33m\u001b[0m\u001b[1;33m\u001b[0m\u001b[0m\n\u001b[0m\u001b[0;32m    134\u001b[0m         \u001b[1;32mreturn\u001b[0m \u001b[0my\u001b[0m\u001b[1;33m\u001b[0m\u001b[1;33m\u001b[0m\u001b[0m\n\u001b[0;32m    135\u001b[0m \u001b[1;33m\u001b[0m\u001b[0m\n",
      "\u001b[1;32m_parser_model.pyx\u001b[0m in \u001b[0;36mspacy.syntax._parser_model.ParserModel.begin_update\u001b[1;34m()\u001b[0m\n",
      "\u001b[1;32m_parser_model.pyx\u001b[0m in \u001b[0;36mspacy.syntax._parser_model.ParserStepModel.__init__\u001b[1;34m()\u001b[0m\n",
      "\u001b[1;32m~\\Anaconda3\\lib\\site-packages\\thinc\\neural\\_classes\\feed_forward.py\u001b[0m in \u001b[0;36mbegin_update\u001b[1;34m(self, X, drop)\u001b[0m\n\u001b[0;32m     44\u001b[0m         \u001b[0mcallbacks\u001b[0m \u001b[1;33m=\u001b[0m \u001b[1;33m[\u001b[0m\u001b[1;33m]\u001b[0m\u001b[1;33m\u001b[0m\u001b[1;33m\u001b[0m\u001b[0m\n\u001b[0;32m     45\u001b[0m         \u001b[1;32mfor\u001b[0m \u001b[0mlayer\u001b[0m \u001b[1;32min\u001b[0m \u001b[0mself\u001b[0m\u001b[1;33m.\u001b[0m\u001b[0m_layers\u001b[0m\u001b[1;33m:\u001b[0m\u001b[1;33m\u001b[0m\u001b[1;33m\u001b[0m\u001b[0m\n\u001b[1;32m---> 46\u001b[1;33m             \u001b[0mX\u001b[0m\u001b[1;33m,\u001b[0m \u001b[0minc_layer_grad\u001b[0m \u001b[1;33m=\u001b[0m \u001b[0mlayer\u001b[0m\u001b[1;33m.\u001b[0m\u001b[0mbegin_update\u001b[0m\u001b[1;33m(\u001b[0m\u001b[0mX\u001b[0m\u001b[1;33m,\u001b[0m \u001b[0mdrop\u001b[0m\u001b[1;33m=\u001b[0m\u001b[0mdrop\u001b[0m\u001b[1;33m)\u001b[0m\u001b[1;33m\u001b[0m\u001b[1;33m\u001b[0m\u001b[0m\n\u001b[0m\u001b[0;32m     47\u001b[0m             \u001b[0mcallbacks\u001b[0m\u001b[1;33m.\u001b[0m\u001b[0mappend\u001b[0m\u001b[1;33m(\u001b[0m\u001b[0minc_layer_grad\u001b[0m\u001b[1;33m)\u001b[0m\u001b[1;33m\u001b[0m\u001b[1;33m\u001b[0m\u001b[0m\n\u001b[0;32m     48\u001b[0m \u001b[1;33m\u001b[0m\u001b[0m\n",
      "\u001b[1;32m~\\Anaconda3\\lib\\site-packages\\thinc\\api.py\u001b[0m in \u001b[0;36mbegin_update\u001b[1;34m(seqs_in, drop)\u001b[0m\n\u001b[0;32m    293\u001b[0m     \u001b[1;32mdef\u001b[0m \u001b[0mbegin_update\u001b[0m\u001b[1;33m(\u001b[0m\u001b[0mseqs_in\u001b[0m\u001b[1;33m,\u001b[0m \u001b[0mdrop\u001b[0m\u001b[1;33m=\u001b[0m\u001b[1;36m0.0\u001b[0m\u001b[1;33m)\u001b[0m\u001b[1;33m:\u001b[0m\u001b[1;33m\u001b[0m\u001b[1;33m\u001b[0m\u001b[0m\n\u001b[0;32m    294\u001b[0m         \u001b[0mlengths\u001b[0m \u001b[1;33m=\u001b[0m \u001b[0mlayer\u001b[0m\u001b[1;33m.\u001b[0m\u001b[0mops\u001b[0m\u001b[1;33m.\u001b[0m\u001b[0masarray\u001b[0m\u001b[1;33m(\u001b[0m\u001b[1;33m[\u001b[0m\u001b[0mlen\u001b[0m\u001b[1;33m(\u001b[0m\u001b[0mseq\u001b[0m\u001b[1;33m)\u001b[0m \u001b[1;32mfor\u001b[0m \u001b[0mseq\u001b[0m \u001b[1;32min\u001b[0m \u001b[0mseqs_in\u001b[0m\u001b[1;33m]\u001b[0m\u001b[1;33m)\u001b[0m\u001b[1;33m\u001b[0m\u001b[1;33m\u001b[0m\u001b[0m\n\u001b[1;32m--> 295\u001b[1;33m         \u001b[0mX\u001b[0m\u001b[1;33m,\u001b[0m \u001b[0mbp_layer\u001b[0m \u001b[1;33m=\u001b[0m \u001b[0mlayer\u001b[0m\u001b[1;33m.\u001b[0m\u001b[0mbegin_update\u001b[0m\u001b[1;33m(\u001b[0m\u001b[0mlayer\u001b[0m\u001b[1;33m.\u001b[0m\u001b[0mops\u001b[0m\u001b[1;33m.\u001b[0m\u001b[0mflatten\u001b[0m\u001b[1;33m(\u001b[0m\u001b[0mseqs_in\u001b[0m\u001b[1;33m,\u001b[0m \u001b[0mpad\u001b[0m\u001b[1;33m=\u001b[0m\u001b[0mpad\u001b[0m\u001b[1;33m)\u001b[0m\u001b[1;33m,\u001b[0m \u001b[0mdrop\u001b[0m\u001b[1;33m=\u001b[0m\u001b[0mdrop\u001b[0m\u001b[1;33m)\u001b[0m\u001b[1;33m\u001b[0m\u001b[1;33m\u001b[0m\u001b[0m\n\u001b[0m\u001b[0;32m    296\u001b[0m         \u001b[1;32mif\u001b[0m \u001b[0mbp_layer\u001b[0m \u001b[1;32mis\u001b[0m \u001b[1;32mNone\u001b[0m\u001b[1;33m:\u001b[0m\u001b[1;33m\u001b[0m\u001b[1;33m\u001b[0m\u001b[0m\n\u001b[0;32m    297\u001b[0m             \u001b[1;32mreturn\u001b[0m \u001b[0mlayer\u001b[0m\u001b[1;33m.\u001b[0m\u001b[0mops\u001b[0m\u001b[1;33m.\u001b[0m\u001b[0munflatten\u001b[0m\u001b[1;33m(\u001b[0m\u001b[0mX\u001b[0m\u001b[1;33m,\u001b[0m \u001b[0mlengths\u001b[0m\u001b[1;33m,\u001b[0m \u001b[0mpad\u001b[0m\u001b[1;33m=\u001b[0m\u001b[0mpad\u001b[0m\u001b[1;33m)\u001b[0m\u001b[1;33m,\u001b[0m \u001b[1;32mNone\u001b[0m\u001b[1;33m\u001b[0m\u001b[1;33m\u001b[0m\u001b[0m\n",
      "\u001b[1;32m~\\Anaconda3\\lib\\site-packages\\thinc\\neural\\_classes\\feed_forward.py\u001b[0m in \u001b[0;36mbegin_update\u001b[1;34m(self, X, drop)\u001b[0m\n\u001b[0;32m     44\u001b[0m         \u001b[0mcallbacks\u001b[0m \u001b[1;33m=\u001b[0m \u001b[1;33m[\u001b[0m\u001b[1;33m]\u001b[0m\u001b[1;33m\u001b[0m\u001b[1;33m\u001b[0m\u001b[0m\n\u001b[0;32m     45\u001b[0m         \u001b[1;32mfor\u001b[0m \u001b[0mlayer\u001b[0m \u001b[1;32min\u001b[0m \u001b[0mself\u001b[0m\u001b[1;33m.\u001b[0m\u001b[0m_layers\u001b[0m\u001b[1;33m:\u001b[0m\u001b[1;33m\u001b[0m\u001b[1;33m\u001b[0m\u001b[0m\n\u001b[1;32m---> 46\u001b[1;33m             \u001b[0mX\u001b[0m\u001b[1;33m,\u001b[0m \u001b[0minc_layer_grad\u001b[0m \u001b[1;33m=\u001b[0m \u001b[0mlayer\u001b[0m\u001b[1;33m.\u001b[0m\u001b[0mbegin_update\u001b[0m\u001b[1;33m(\u001b[0m\u001b[0mX\u001b[0m\u001b[1;33m,\u001b[0m \u001b[0mdrop\u001b[0m\u001b[1;33m=\u001b[0m\u001b[0mdrop\u001b[0m\u001b[1;33m)\u001b[0m\u001b[1;33m\u001b[0m\u001b[1;33m\u001b[0m\u001b[0m\n\u001b[0m\u001b[0;32m     47\u001b[0m             \u001b[0mcallbacks\u001b[0m\u001b[1;33m.\u001b[0m\u001b[0mappend\u001b[0m\u001b[1;33m(\u001b[0m\u001b[0minc_layer_grad\u001b[0m\u001b[1;33m)\u001b[0m\u001b[1;33m\u001b[0m\u001b[1;33m\u001b[0m\u001b[0m\n\u001b[0;32m     48\u001b[0m \u001b[1;33m\u001b[0m\u001b[0m\n",
      "\u001b[1;32m~\\Anaconda3\\lib\\site-packages\\thinc\\api.py\u001b[0m in \u001b[0;36muniqued_fwd\u001b[1;34m(X, drop)\u001b[0m\n\u001b[0;32m    378\u001b[0m         \u001b[0mX_uniq\u001b[0m \u001b[1;33m=\u001b[0m \u001b[0mlayer\u001b[0m\u001b[1;33m.\u001b[0m\u001b[0mops\u001b[0m\u001b[1;33m.\u001b[0m\u001b[0mxp\u001b[0m\u001b[1;33m.\u001b[0m\u001b[0mascontiguousarray\u001b[0m\u001b[1;33m(\u001b[0m\u001b[0mX\u001b[0m\u001b[1;33m[\u001b[0m\u001b[0mind\u001b[0m\u001b[1;33m]\u001b[0m\u001b[1;33m)\u001b[0m\u001b[1;33m\u001b[0m\u001b[1;33m\u001b[0m\u001b[0m\n\u001b[0;32m    379\u001b[0m         \u001b[0mY_uniq\u001b[0m\u001b[1;33m,\u001b[0m \u001b[0mbp_Y_uniq\u001b[0m \u001b[1;33m=\u001b[0m \u001b[0mlayer\u001b[0m\u001b[1;33m.\u001b[0m\u001b[0mbegin_update\u001b[0m\u001b[1;33m(\u001b[0m\u001b[0mX_uniq\u001b[0m\u001b[1;33m,\u001b[0m \u001b[0mdrop\u001b[0m\u001b[1;33m=\u001b[0m\u001b[0mdrop\u001b[0m\u001b[1;33m)\u001b[0m\u001b[1;33m\u001b[0m\u001b[1;33m\u001b[0m\u001b[0m\n\u001b[1;32m--> 380\u001b[1;33m         \u001b[0mY\u001b[0m \u001b[1;33m=\u001b[0m \u001b[0mY_uniq\u001b[0m\u001b[1;33m[\u001b[0m\u001b[0minv\u001b[0m\u001b[1;33m]\u001b[0m\u001b[1;33m.\u001b[0m\u001b[0mreshape\u001b[0m\u001b[1;33m(\u001b[0m\u001b[1;33m(\u001b[0m\u001b[0mX\u001b[0m\u001b[1;33m.\u001b[0m\u001b[0mshape\u001b[0m\u001b[1;33m[\u001b[0m\u001b[1;36m0\u001b[0m\u001b[1;33m]\u001b[0m\u001b[1;33m,\u001b[0m\u001b[1;33m)\u001b[0m \u001b[1;33m+\u001b[0m \u001b[0mY_uniq\u001b[0m\u001b[1;33m.\u001b[0m\u001b[0mshape\u001b[0m\u001b[1;33m[\u001b[0m\u001b[1;36m1\u001b[0m\u001b[1;33m:\u001b[0m\u001b[1;33m]\u001b[0m\u001b[1;33m)\u001b[0m\u001b[1;33m\u001b[0m\u001b[1;33m\u001b[0m\u001b[0m\n\u001b[0m\u001b[0;32m    381\u001b[0m \u001b[1;33m\u001b[0m\u001b[0m\n\u001b[0;32m    382\u001b[0m         \u001b[1;32mdef\u001b[0m \u001b[0muniqued_bwd\u001b[0m\u001b[1;33m(\u001b[0m\u001b[0mdY\u001b[0m\u001b[1;33m,\u001b[0m \u001b[0msgd\u001b[0m\u001b[1;33m=\u001b[0m\u001b[1;32mNone\u001b[0m\u001b[1;33m)\u001b[0m\u001b[1;33m:\u001b[0m\u001b[1;33m\u001b[0m\u001b[1;33m\u001b[0m\u001b[0m\n",
      "\u001b[1;31mKeyboardInterrupt\u001b[0m: "
     ]
    }
   ],
   "source": [
    "X_input = []\n",
    "for i, row in df.iterrows():\n",
    "    doc = nlp(row['Type'])\n",
    "    X_input.append(doc.vector)"
   ]
  },
  {
   "cell_type": "code",
   "execution_count": null,
   "id": "a0567239",
   "metadata": {},
   "outputs": [],
   "source": []
  },
  {
   "cell_type": "code",
   "execution_count": null,
   "id": "4d2481da",
   "metadata": {},
   "outputs": [],
   "source": []
  }
 ],
 "metadata": {
  "kernelspec": {
   "display_name": "Python 3",
   "language": "python",
   "name": "python3"
  },
  "language_info": {
   "codemirror_mode": {
    "name": "ipython",
    "version": 3
   },
   "file_extension": ".py",
   "mimetype": "text/x-python",
   "name": "python",
   "nbconvert_exporter": "python",
   "pygments_lexer": "ipython3",
   "version": "3.7.11"
  }
 },
 "nbformat": 4,
 "nbformat_minor": 5
}
